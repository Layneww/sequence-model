{
 "cells": [
  {
   "cell_type": "code",
   "execution_count": 1,
   "metadata": {},
   "outputs": [],
   "source": [
    "import os\n",
    "import cv2\n",
    "import shutil\n",
    "import tempfile\n",
    "import tensorflow as tf\n",
    "import subprocess"
   ]
  },
  {
   "cell_type": "code",
   "execution_count": 2,
   "metadata": {},
   "outputs": [],
   "source": [
    "# get unichar and map accordingly\n",
    "def getAlphabet(unichar_dir):\n",
    "    num_cat = 2 + ord(u'\\u007f')+1-ord(u'\\u0021') + ord(u'\\u0e7f')+1-ord(u'\\u0e00')\n",
    "    unichar_path = unichar_dir+'charset_size={}.txt'.format(num_cat)\n",
    "    alphabet = u''\n",
    "    with open(unichar_path, 'r', encoding = 'utf-8') as f:\n",
    "        lines = f.readlines()\n",
    "        for line in lines[:len(lines)-1]:\n",
    "            alphabet += line.strip('\\n').split('\\t')[1]\n",
    "    return alphabet, unichar_path\n",
    "\n",
    "# def text_to_label(text):\n",
    "#     if text=='<nul>':\n",
    "#         return len(alphabet)\n",
    "#     else:\n",
    "#         return alphabet.find(text)\n",
    "\n",
    "# def label_to_text(label):\n",
    "#     if label == len(alphabet):\n",
    "#         return '<nul>'\n",
    "#     else:\n",
    "#         return alphabet[label]\n",
    "\n",
    "def cleanup(temp_dir):\n",
    "    ''' Tries to remove the whole temp_dir '''\n",
    "    try:\n",
    "        shutil.rmtree(temp_dir)\n",
    "    except OSError:\n",
    "        pass"
   ]
  },
  {
   "cell_type": "code",
   "execution_count": 3,
   "metadata": {},
   "outputs": [],
   "source": [
    "def inference(data_path, decoder_path, python_dir, train_dir, encoding='UTF-8', cuda_device=\"\"):\n",
    "    os.environ[\"CUDA_DEVICE_ORDER\"] = \"PCI_BUS_ID\"\n",
    "    os.environ[\"CUDA_VISIBLE_DEVICES\"] = cuda_device\n",
    "    os.environ[\"PYTHONIOENCODING\"] = encoding\n",
    "    \n",
    "    os.chdir(python_dir)\n",
    "    command = []\n",
    "    os.environ\n",
    "    command += ('python3', 'inference.py',\n",
    "                '--image', data_path,\n",
    "                '--decoder', decoder_path,\n",
    "                '--train_dir', train_dir)\n",
    "    result = subprocess.check_output(command)\n",
    "    print(result.decode('utf-8'))\n",
    "    \n",
    "def my_predict(folder_dir):\n",
    "    tempdir = tempfile.mkdtemp()\n",
    "    # run inference\n",
    "    inference(image_path, decoder_path, folder_dir+'python', folder_dir+'model')\n",
    "    cleanup(tempdir)"
   ]
  },
  {
   "cell_type": "code",
   "execution_count": null,
   "metadata": {},
   "outputs": [],
   "source": [
    "# choose the image for inference\n",
    "image_path = '/data/test_iamge/tha+eng3.png'\n",
    "# customized params\n",
    "folder_dir = '/data/street/'\n",
    "output_dir = '/data/'\n",
    "unichar_dir = output_dir\n",
    "alphabet, decoder_path = getAlphabet(unichar_dir)\n",
    "# my model\n",
    "import time\n",
    "start = time.time()\n",
    "my_predict(folder_dir)\n",
    "print('spent: {:.2f}s'.format(time.time()-start))"
   ]
  },
  {
   "cell_type": "code",
   "execution_count": null,
   "metadata": {},
   "outputs": [],
   "source": [
    "# tesseract output\n",
    "import pytesseract\n",
    "lang_choice='tha+eng'\n",
    "tessdata_prefix = \"/data/tesseract-ralated/tesseract-ocr/tessdata\"\n",
    "os.environ[\"TESSDATA_PREFIX\"] = tessdata_prefix\n",
    "start = time.time()\n",
    "print(pytesseract.image_to_string(cv2.imread(image_path), lang=lang_choice))\n",
    "print('spent: {:.2f}s'.format(time.time()-start))"
   ]
  }
 ],
 "metadata": {
  "kernelspec": {
   "display_name": "Python 3",
   "language": "python",
   "name": "python3"
  },
  "language_info": {
   "codemirror_mode": {
    "name": "ipython",
    "version": 3
   },
   "file_extension": ".py",
   "mimetype": "text/x-python",
   "name": "python",
   "nbconvert_exporter": "python",
   "pygments_lexer": "ipython3",
   "version": "3.5.2"
  }
 },
 "nbformat": 4,
 "nbformat_minor": 2
}
