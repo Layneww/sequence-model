{
 "cells": [
  {
   "cell_type": "code",
   "execution_count": 1,
   "metadata": {},
   "outputs": [],
   "source": [
    "import tesserocr\n",
    "from PIL import Image\n",
    "import os\n",
    "import numpy as np\n",
    "import cv2\n",
    "from tesserocr import PyTessBaseAPI, RIL\n",
    "import shutil\n",
    "import tempfile\n",
    "import tensorflow as tf\n",
    "import math\n",
    "import matplotlib.pyplot as plt\n",
    "import subprocess\n",
    "import shlex\n",
    "import glob"
   ]
  },
  {
   "cell_type": "code",
   "execution_count": 2,
   "metadata": {},
   "outputs": [],
   "source": [
    "# customised parameters\n",
    "#image_path = '/data/tha+eng2.jpg'\n",
    "#image_path = '/data/pk-1326.png'\n",
    "lang_choice = 'tha+eng'\n",
    "tessdata_prefix = \"/data/tesseract-ralated/tesseract-ocr/tessdata\"\n",
    "output_dir = '/data/'\n",
    "unichar_dir = output_dir\n",
    "os.environ[\"TESSDATA_PREFIX\"] = tessdata_prefix\n",
    "# default params\n",
    "RESIZE = 60"
   ]
  },
  {
   "cell_type": "code",
   "execution_count": 3,
   "metadata": {
    "scrolled": false
   },
   "outputs": [],
   "source": [
    "# extract lines\n",
    "def getLineImages(image_path):\n",
    "    image = Image.open(image_path)\n",
    "    lines = []\n",
    "    with PyTessBaseAPI(lang = lang_choice) as api:\n",
    "        api.SetImage(image)\n",
    "        boxes = api.GetComponentImages(RIL.TEXTLINE, True)\n",
    "        #print(boxes)\n",
    "        #print('Found {} box image components.'.format(len(boxes)))\n",
    "        for i in range(len(boxes)):\n",
    "            #print(i, 'th box')\n",
    "            display(boxes[i][0])\n",
    "            line = np.asarray(boxes[i][0])\n",
    "            lines.append(line)\n",
    "    return lines\n",
    "\n",
    "# resize line to be the same height\n",
    "def resizeLine(height, image):\n",
    "    #image = np.dot(image[:], [0.299, 0.587, 0.114]) # change to grayscale\n",
    "    ratio = height/image.shape[0]\n",
    "    image = cv2.resize(image, (math.floor(ratio*image.shape[1]), height))\n",
    "    image = image.astype(np.float32)\n",
    "    return image"
   ]
  },
  {
   "cell_type": "code",
   "execution_count": 4,
   "metadata": {},
   "outputs": [],
   "source": [
    "# get unichar and map accordingly\n",
    "def getAlphabet(unichar_dir):\n",
    "    num_cat = 2 + ord(u'\\u007f')+1-ord(u'\\u0021') + ord(u'\\u0e7f')+1-ord(u'\\u0e00')\n",
    "    unichar_path = unichar_dir+'/charset_size={}.txt'.format(num_cat)\n",
    "    index = 0\n",
    "    if not os.path.exists(unichar_path):\n",
    "        with open(unichar_path, 'w', encoding='utf-8') as f:\n",
    "            f.write('0\\t \\n')\n",
    "            for i in range(ord(u'\\u0021'), ord(u'\\u007f')+1):\n",
    "                index += 1\n",
    "                f.write(str(index)+'\\t'+chr(i)+'\\n')\n",
    "            for i in range(ord(u'\\u0e00'), ord(u'\\u0e7f')+1):\n",
    "                index += 1\n",
    "                f.write(str(index)+'\\t'+chr(i)+'\\n')\n",
    "            f.write('{}\\t<nul>\\n'.format(num_cat-1))\n",
    "    alphabet = u''\n",
    "    with open(unichar_path, 'r', encoding = 'utf-8') as f:\n",
    "        lines = f.readlines()\n",
    "        for line in lines[:len(lines)-1]:\n",
    "            alphabet += line.strip('\\n').split('\\t')[1]\n",
    "    return alphabet, unichar_path\n",
    "\n",
    "def text_to_label(text):\n",
    "    if text=='<nul>':\n",
    "        return len(alphabet)\n",
    "    else:\n",
    "        return alphabet.find(text)\n",
    "\n",
    "def label_to_text(label):\n",
    "    if label == len(alphabet):\n",
    "        return '<nul>'\n",
    "    else:\n",
    "        return alphabet[label]\n",
    "\n",
    "def cleanup(temp_dir):\n",
    "    ''' Tries to remove the whole temp_dir '''\n",
    "    try:\n",
    "        shutil.rmtree(temp_dir)\n",
    "    except OSError:\n",
    "        pass"
   ]
  },
  {
   "cell_type": "code",
   "execution_count": 5,
   "metadata": {},
   "outputs": [],
   "source": [
    "# create tfrecord for inference\n",
    "def _int64_feature(value):\n",
    "    return tf.train.Feature(int64_list=tf.train.Int64List(value=[value]))\n",
    "\n",
    "def _int64_list_feature(value):\n",
    "    return tf.train.Feature(int64_list=tf.train.Int64List(value=value))\n",
    "\n",
    "def _bytes_feature(value):\n",
    "    return tf.train.Feature(bytes_list=tf.train.BytesList(value=[value]))\n",
    "\n",
    "def createTFRecord(image_path, tempdir):\n",
    "    # list of nparray of line images\n",
    "    lines = getLineImages(image_path)\n",
    "    # create a temp image.tfrecords\n",
    "    basename = os.path.basename(image_path)\n",
    "    tfrecords_filename = tempdir+'/'+str(len(lines))+'-'+os.path.splitext(basename)[0]+'.tfrecords'\n",
    "    writer = tf.python_io.TFRecordWriter(tfrecords_filename)\n",
    "    # write in tfrecord\n",
    "    for i in range(len(lines)):\n",
    "        text = ''\n",
    "        label = [text_to_label(x) for x in text]\n",
    "        blob = lines[i]\n",
    "        if blob.shape[0]==0:\n",
    "            continue\n",
    "        img_resize = resizeLine(RESIZE, blob)\n",
    "#         plt.imshow(img_resize, cmap='gray')\n",
    "#         display(plt.show())\n",
    "        _height, _width = img_resize.shape\n",
    "        success, img_raw = cv2.imencode('.png', img_resize)\n",
    "        img_raw = tf.compat.as_bytes(img_raw.tostring())\n",
    "        example = tf.train.Example(features=tf.train.Features(\n",
    "                feature={\n",
    "                    'image/format': _bytes_feature(tf.compat.as_bytes('PNG')),\n",
    "                    'image/encoded': _bytes_feature(img_raw),\n",
    "                    #'image/class': _int64_list_feature(padLabels(label)),\n",
    "                    'image/unpadded_class': _int64_list_feature(label),\n",
    "                    'image/width': _int64_feature(_width),\n",
    "                    'image/height': _int64_feature(_height),\n",
    "                    'image/text': _bytes_feature(tf.compat.as_bytes(text))\n",
    "                }))\n",
    "        writer.write(example.SerializeToString())\n",
    "\n",
    "    writer.close()\n",
    "    return tfrecords_filename"
   ]
  },
  {
   "cell_type": "code",
   "execution_count": 13,
   "metadata": {},
   "outputs": [],
   "source": [
    "\n",
    "# PYTHONIOENCODING=UTF-8 CUDA_VISIBLE_DEVICES=\"\" python3 inference.py \n",
    "# --infer_data=/tmp/tmpg06wf32p/6-0-Tahoma.tfrecords  \n",
    "# --decoder=/data/charset_size\\=225.txt --train_dir=$train_dir\n",
    "\n",
    "def inference(data_path, decoder_path, python_dir, train_dir, encoding='UTF-8', cuda_device=\"\"):\n",
    "    os.environ[\"CUDA_DEVICE_ORDER\"] = \"PCI_BUS_ID\"\n",
    "    os.environ[\"CUDA_VISIBLE_DEVICES\"] = cuda_device\n",
    "    os.environ[\"PYTHONIOENCODING\"] = encoding\n",
    "    \n",
    "    os.chdir(python_dir)\n",
    "    command = []\n",
    "    os.environ\n",
    "    command += ('python3', 'inference.py',\n",
    "                '--infer_data', data_path,\n",
    "                '--decoder', decoder_path,\n",
    "                '--train_dir', train_dir)\n",
    "    result = subprocess.check_output(command)\n",
    "    print(result.decode('utf-8'))\n",
    "    \n",
    "def my_predict(folder_dir):\n",
    "    tempdir = tempfile.mkdtemp()\n",
    "    infer_data = createTFRecord(image_path, tempdir)\n",
    "    # run inference\n",
    "    inference(infer_data, decoder_path, folder_dir+'python', folder_dir+'model')\n",
    "    cleanup(tempdir)"
   ]
  },
  {
   "cell_type": "code",
   "execution_count": 16,
   "metadata": {},
   "outputs": [
    {
     "data": {
      "image/png": "[encoded data removed]",
      "text/plain": [
       "<PIL.JpegImagePlugin.JpegImageFile image mode=L size=516x25 at 0x7FBAB54F9CC0>"
      ]
     },
     "metadata": {},
     "output_type": "display_data"
    },
    {
     "name": "stdout",
     "output_type": "stream",
     "text": [
      "มีภาพที่เริยกว่า ^The 16th moon\" บนผนัง ฉันหวังว่ามันจะตำให้ห้องดูสวฤ\n",
      "\n",
      "spent: 3.12s\n"
     ]
    }
   ],
   "source": [
    "# choose the image for inference\n",
    "image_path = '/data/tha+eng3.png'\n",
    "# customized params\n",
    "folder_dir = '/data/street/'\n",
    "alphabet, decoder_path = getAlphabet(unichar_dir)\n",
    "# my model\n",
    "import time\n",
    "start = time.time()\n",
    "my_predict(folder_dir)\n",
    "print('spent: {:.2f}s'.format(time.time()-start))"
   ]
  },
  {
   "cell_type": "code",
   "execution_count": 15,
   "metadata": {},
   "outputs": [
    {
     "name": "stdout",
     "output_type": "stream",
     "text": [
      "ม ี ภา พ ท ี ่ เร ี ย ก ว ่ า “โท 6 16 ย ขา \"ท ๐๐๓” บ น ผนัง ฉั น ห ว ั ง ว ่ า ม ั น จ ะ ท ํ า ให ้ ห ้ อ ง ด ู ส ว ย\n",
      "spent: 0.73s\n"
     ]
    }
   ],
   "source": [
    "# tesseract output\n",
    "import pytesseract\n",
    "start = time.time()\n",
    "print(pytesseract.image_to_string(cv2.imread(image_path), lang=lang_choice))\n",
    "print('spent: {:.2f}s'.format(time.time()-start))"
   ]
  },
  {
   "cell_type": "code",
   "execution_count": null,
   "metadata": {},
   "outputs": [],
   "source": []
  }
 ],
 "metadata": {
  "kernelspec": {
   "display_name": "Python 3",
   "language": "python",
   "name": "python3"
  },
  "language_info": {
   "codemirror_mode": {
    "name": "ipython",
    "version": 3
   },
   "file_extension": ".py",
   "mimetype": "text/x-python",
   "name": "python",
   "nbconvert_exporter": "python",
   "pygments_lexer": "ipython3",
   "version": "3.5.2"
  }
 },
 "nbformat": 4,
 "nbformat_minor": 2
}
